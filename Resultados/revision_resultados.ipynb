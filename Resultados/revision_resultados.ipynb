{
 "cells": [
  {
   "cell_type": "code",
   "execution_count": 6,
   "metadata": {},
   "outputs": [],
   "source": [
    "import sys        \n",
    "import random\n",
    "import warnings\n",
    "import time\n",
    "import numpy as np\n",
    "import pandas as pd\n",
    "import collections, functools, operator\n",
    "import os\n",
    "import pickle\n",
    "\n",
    "# Parameters of system\n",
    "warnings.filterwarnings(\"ignore\")"
   ]
  },
  {
   "cell_type": "code",
   "execution_count": 7,
   "metadata": {},
   "outputs": [
    {
     "name": "stdout",
     "output_type": "stream",
     "text": [
      "Escenario 1: 217403430.4864659 +- 22661.018173933306\n",
      "Escenario 2: 217338427.92543802 +- 20341.73635071743\n",
      "Escenario 3: 217047503.26024327 +- 18200.55781342851\n",
      "Escenario 4: 219068269.3226572 +- 31903.48777372496\n",
      "Escenario 5: 219140469.66737053 +- 31582.10463283589\n",
      "Escenario 6: 219054443.95510158 +- 31134.983239498684\n"
     ]
    }
   ],
   "source": [
    "# Precios iguales\n",
    "#Escenario 1: Optimizo 21 - Implemento 21\n",
    "#Escenario 2: Optimizo 21 - Implemento 14\n",
    "#Escenario 3: Optimizo 21 - Implemento 7\n",
    "\n",
    "# Precios libres\n",
    "#Escenario 4: Optimizo 21 - Implemento 21\n",
    "#Escenario 5: Optimizo 21 - Implemento 14\n",
    "#Escenario 6: Optimizo 21 - Implemento 7\n",
    "\n",
    "os.chdir('/Users/moises/Desktop/Produccion-Tesis/')\n",
    "\n",
    "# Correr 30 replicas\n",
    "replicas = 50\n",
    "q = 15000\n",
    "\n",
    "for experiment in [1,2,3,4,5,6]:            \n",
    "    file_name = f\"Resultados/{q}/Escenario {experiment}/\"\n",
    "    df = pd.read_csv(file_name+\"objective_value.csv\", sep=';')\n",
    "    print(f\"Escenario {experiment}: {df['value'].sum()/replicas} +- {df['value'].std()*1.96/np.sqrt(replicas)}\")"
   ]
  },
  {
   "cell_type": "code",
   "execution_count": 8,
   "metadata": {},
   "outputs": [],
   "source": [
    "\n",
    "#file_name = f\"Resultados/Escenario 1/\"\n",
    "#df1 = pd.read_csv(file_name+\"objective_value.xlsx\", sep=\";\")\n",
    "#\n",
    "#file_name = f\"Resultados/Escenario 2/\"\n",
    "#df2 = pd.read_csv(file_name+\"objective_value.xlsx\")\n",
    "#\n",
    "#df = df1.merge(df2, on=['t','r'])\n",
    "#df['dif'] = df.value_x - df.value_y\n",
    "#print(f\"{df.groupby('r').sum()['dif'].mean()} + {df.groupby('r').sum()['dif'].std()*1.96/np.sqrt(10)}\")"
   ]
  },
  {
   "cell_type": "code",
   "execution_count": 16,
   "metadata": {},
   "outputs": [
    {
     "name": "stdout",
     "output_type": "stream",
     "text": [
      "Escenario 1 & $215.390$ $\\pm$ $0.129$ $\\times10^{6}$ & $248.230$ $\\pm$ $0.113$ $\\times10^{6}$ & $2.253$ $\\pm$ $0.030$ $\\times10^{6}$ & $30.475$ $\\pm$ $0.009$ $\\times10^{6}$ & $0.112$ $\\pm$ $0.001$ $\\times10^{6}$\\\\ \\midrule \n",
      "Escenario 2 & $215.406$ $\\pm$ $0.129$ $\\times10^{6}$ & $248.439$ $\\pm$ $0.116$ $\\times10^{6}$ & $2.465$ $\\pm$ $0.027$ $\\times10^{6}$ & $30.456$ $\\pm$ $0.010$ $\\times10^{6}$ & $0.112$ $\\pm$ $0.001$ $\\times10^{6}$\\\\ \\midrule \n",
      "Escenario 3 & $215.216$ $\\pm$ $0.143$ $\\times10^{6}$ & $248.554$ $\\pm$ $0.124$ $\\times10^{6}$ & $2.669$ $\\pm$ $0.030$ $\\times10^{6}$ & $30.554$ $\\pm$ $0.015$ $\\times10^{6}$ & $0.115$ $\\pm$ $0.001$ $\\times10^{6}$\\\\ \\midrule \n",
      "Escenario 4 & $216.903$ $\\pm$ $0.126$ $\\times10^{6}$ & $249.246$ $\\pm$ $0.110$ $\\times10^{6}$ & $1.821$ $\\pm$ $0.025$ $\\times10^{6}$ & $30.474$ $\\pm$ $0.009$ $\\times10^{6}$ & $0.048$ $\\pm$ $0.002$ $\\times10^{6}$\\\\ \\midrule \n",
      "Escenario 5 & $216.972$ $\\pm$ $0.119$ $\\times10^{6}$ & $249.181$ $\\pm$ $0.108$ $\\times10^{6}$ & $1.667$ $\\pm$ $0.016$ $\\times10^{6}$ & $30.494$ $\\pm$ $0.009$ $\\times10^{6}$ & $0.048$ $\\pm$ $0.002$ $\\times10^{6}$\\\\ \\midrule \n",
      "Escenario 6 & $216.853$ $\\pm$ $0.115$ $\\times10^{6}$ & $248.897$ $\\pm$ $0.107$ $\\times10^{6}$ & $1.467$ $\\pm$ $0.013$ $\\times10^{6}$ & $30.530$ $\\pm$ $0.010$ $\\times10^{6}$ & $0.048$ $\\pm$ $0.002$ $\\times10^{6}$\\\\ \\bottomrule \n"
     ]
    }
   ],
   "source": [
    "from scipy import stats\n",
    "\n",
    "final = pd.DataFrame()\n",
    "for experiment in range (1, 7):\n",
    "    # Recorrer cada experimento\n",
    "    if experiment in [1, 2,  3, 4, 5, 6]:\n",
    "        file_name = f\"Resultados/{q}/Escenario {experiment}/\"\n",
    "        df = pd.read_csv(file_name+\"objective_value.csv\", sep=\";\").rename(columns={'value': 'utilidad'}).groupby(['r']).sum().reset_index()['utilidad']\n",
    "        df1 = pd.read_csv(file_name+\"ingresos.csv\", sep=\";\").rename(columns={'value': 'ingresos'}).groupby(['r']).sum().reset_index()['ingresos']\n",
    "        df2 = pd.read_csv(file_name+\"costo_inventario.csv\", sep=\";\").rename(columns={'value': 'costo_inventario'}).groupby(['r']).sum().reset_index()['costo_inventario']\n",
    "        df3 = pd.read_csv(file_name+\"costo_corte.csv\", sep=\";\").rename(columns={'value': 'costo_corte'}).groupby(['r']).sum().reset_index()['costo_corte']\n",
    "        df4 = pd.read_csv(file_name+\"costo_merma.csv\", sep=\";\").rename(columns={'value': 'costo_merma'}).groupby(['r']).sum().reset_index()['costo_merma']\n",
    "        df = pd.concat([df, df1, df2, df3, df4], axis=1)\n",
    "        df['Escenario'] = f\"Escenario {experiment}\"\n",
    "        df = df.reset_index().rename(columns={'index': 'r'})\n",
    "        df['r'] += 1\n",
    "\n",
    "        # Se agrega al DataFrame \n",
    "        final = pd.concat([final, df])\n",
    "        \n",
    "        fila = f\"Escenario {experiment} & \"\n",
    "        for metrica in ['utilidad', 'ingresos', 'costo_inventario', 'costo_corte', 'costo_merma']:\n",
    "            # Calcula la media y desviación estándar de la columna 'utilidad'\n",
    "            media = df[metrica].mean()\n",
    "            desviacion_estandar = df[metrica].std()\n",
    "\n",
    "            # Calcula el tamaño de la muestra\n",
    "            tamano_muestra = len(df)\n",
    "            \n",
    "            # Define el nivel de confianza deseado (por ejemplo, 95%)\n",
    "            nivel_confianza = 0.95\n",
    "\n",
    "            # Calcula el valor crítico de la distribución t de Student\n",
    "            valor_critico = stats.t.ppf((1 + nivel_confianza) / 2, tamano_muestra - 1)\n",
    "\n",
    "            # Calcula el error estándar\n",
    "            error_estandar = desviacion_estandar / np.sqrt(tamano_muestra)\n",
    "\n",
    "            # Calcula el intervalo de confianza\n",
    "            intervalo_inferior = media - valor_critico * error_estandar\n",
    "            intervalo_superior = media + valor_critico * error_estandar\n",
    "\n",
    "            # Expresa el intervalo de confianza en potencia de 10e6 (potencia de 6)\n",
    "            media = \"{:.3f}\".format(media * 1e-6)\n",
    "            error = \"{:.3f}\".format(valor_critico * error_estandar * 1e-6)\n",
    "\n",
    "            # Imprime el intervalo de confianza expresado en potencia de 10e6 (potencia de 6)\n",
    "            cadena = f\"${media}$ $\\pm$ ${error}$ $\\\\times10^-6_$\".replace('-', '{'). replace('_', '}')\n",
    "            #print(f\"{metrica}:{cadena}\")\n",
    "\n",
    "            fila += f\"{cadena} & \"\n",
    "\n",
    "        fila =  fila[:-3]\n",
    "        if experiment != 6:\n",
    "            fila += \"\\\\\\\\ \\\\midrule \"\n",
    "        else:\n",
    "            fila += \"\\\\\\\\ \\\\bottomrule \"\n",
    "\n",
    "        print(fila)\n",
    "\n",
    "        \n",
    "#final\n",
    "#final.to_excel(\"/Users/moises/Desktop/Codigo - Test significancia/ANOVA.xlsx\", sheet_name=\"ANOVA\")    \n"
   ]
  }
 ],
 "metadata": {
  "kernelspec": {
   "display_name": "Python 3",
   "language": "python",
   "name": "python3"
  },
  "language_info": {
   "codemirror_mode": {
    "name": "ipython",
    "version": 3
   },
   "file_extension": ".py",
   "mimetype": "text/x-python",
   "name": "python",
   "nbconvert_exporter": "python",
   "pygments_lexer": "ipython3",
   "version": "3.10.9"
  },
  "orig_nbformat": 4
 },
 "nbformat": 4,
 "nbformat_minor": 2
}
