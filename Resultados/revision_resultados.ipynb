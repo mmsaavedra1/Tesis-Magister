{
 "cells": [
  {
   "cell_type": "code",
   "execution_count": 15,
   "metadata": {},
   "outputs": [],
   "source": [
    "import sys        \n",
    "import random\n",
    "import warnings\n",
    "import time\n",
    "import numpy as np\n",
    "import pandas as pd\n",
    "import collections, functools, operator\n",
    "import os\n",
    "import pickle\n",
    "\n",
    "# Parameters of system\n",
    "warnings.filterwarnings(\"ignore\")"
   ]
  },
  {
   "cell_type": "code",
   "execution_count": 19,
   "metadata": {},
   "outputs": [
    {
     "name": "stdout",
     "output_type": "stream",
     "text": [
      "Escenario 1: 242562427.1903762 +- 117123.4697631912\n",
      "Escenario 2: 241976470.83188325 +- 117999.34289744907\n",
      "Escenario 3: 241292716.7664968 +- 117203.97379028347\n",
      "Escenario 4: 242637159.66701612 +- 116353.83630038859\n",
      "Escenario 5: 242656307.69973335 +- 113203.13917744675\n",
      "Escenario 6: 242088369.92528644 +- 111883.90202279642\n"
     ]
    }
   ],
   "source": [
    "# Precios iguales\n",
    "#Escenario 1: Optimizo 21 - Implemento 21\n",
    "#Escenario 2: Optimizo 21 - Implemento 14\n",
    "#Escenario 3: Optimizo 21 - Implemento 7\n",
    "\n",
    "# Precios libres\n",
    "#Escenario 4: Optimizo 21 - Implemento 21\n",
    "#Escenario 5: Optimizo 21 - Implemento 14\n",
    "#Escenario 6: Optimizo 21 - Implemento 7\n",
    "\n",
    "os.chdir('/Users/moises/Desktop/Produccion-Tesis/')\n",
    "\n",
    "# Correr 30 replicas\n",
    "replicas = 10\n",
    "q = 30000\n",
    "\n",
    "for experiment in [1,2,3,4,5,6]:            \n",
    "    file_name = f\"Resultados/{q}/Escenario {experiment}/\"\n",
    "    df = pd.read_csv(file_name+\"objective_value.csv\", sep=';')\n",
    "    print(f\"Escenario {experiment}: {df['value'].sum()/replicas} +- {df['value'].std()*3/np.sqrt(replicas)}\")"
   ]
  },
  {
   "cell_type": "code",
   "execution_count": 20,
   "metadata": {},
   "outputs": [
    {
     "name": "stdout",
     "output_type": "stream",
     "text": [
      "Escenario 7: 242562427.1903762 +- 117123.4697631912\n",
      "Escenario 8: 242865620.07968402 +- 116194.78932479434\n",
      "Escenario 9: 241592086.6134389 +- 111311.91319458406\n",
      "Escenario 10: 242637159.66701612 +- 116353.83630038859\n",
      "Escenario 11: 242677775.43101746 +- 112729.86569012534\n",
      "Escenario 12: 241508306.31138128 +- 111520.14431739271\n"
     ]
    }
   ],
   "source": [
    "# Precios iguales\n",
    "#Escenario 7: Optimizo 21 - Implemento 21\n",
    "#Escenario 8: Optimizo 14 - Implemento 14\n",
    "#Escenario 9: Optimizo 7 - Implemento 7\n",
    "\n",
    "# Precios libres\n",
    "#Escenario 10: Optimizo 21 - Implemento 21\n",
    "#Escenario 11: Optimizo 14 - Implemento 14\n",
    "#Escenario 12: Optimizo 7 - Implemento 7\n",
    "\n",
    "os.chdir('/Users/moises/Desktop/Produccion-Tesis/')\n",
    "\n",
    "# Correr 30 replicas\n",
    "replicas = 10\n",
    "q = 30000\n",
    "\n",
    "for experiment in [7,8,9,10,11,12]:            \n",
    "    file_name = f\"Resultados/{q}/Escenario {experiment}/\"\n",
    "    df = pd.read_csv(file_name+\"objective_value.csv\", sep=';')\n",
    "    print(f\"Escenario {experiment}: {df['value'].sum()/replicas} +- {df['value'].std()*3/np.sqrt(replicas)}\")\n"
   ]
  },
  {
   "cell_type": "code",
   "execution_count": null,
   "metadata": {},
   "outputs": [],
   "source": [
    "file_name = f\"Resultados/Escenario 1/\"\n",
    "df1 = pd.read_excel(file_name+\"objective_value.xlsx\")\n",
    "\n",
    "file_name = f\"Resultados/Escenario 2/\"\n",
    "df2 = pd.read_excel(file_name+\"objective_value.xlsx\")\n",
    "\n",
    "df = df1.merge(df2, on=['t','r'])\n",
    "df['dif'] = df.value_x - df.value_y\n",
    "print(f\"{df.groupby('r').sum()['dif'].mean()} + {df.groupby('r').sum()['dif'].std()*1.96/np.sqrt(10)}\")"
   ]
  },
  {
   "cell_type": "code",
   "execution_count": null,
   "metadata": {},
   "outputs": [],
   "source": [
    "final = pd.DataFrame()\n",
    "for experiment in range (1, 7):\n",
    "    # Recorrer cada experimento\n",
    "    if experiment in [1, 2,  3, 4, 5, 6]:\n",
    "        file_name = f\"Resultados/Escenario {experiment}/\"\n",
    "        df = pd.read_excel(file_name+\"objective_value.xlsx\").rename(columns={'value': 'utilidad'}).groupby(['r']).sum().reset_index()['utilidad']\n",
    "        df1 = pd.read_excel(file_name+\"ingresos.xlsx\").rename(columns={'value': 'ingresos'}).groupby(['r']).sum().reset_index()['ingresos']\n",
    "        df2 = pd.read_excel(file_name+\"costo_inventario.xlsx\").rename(columns={'value': 'costo_inventario'}).groupby(['r']).sum().reset_index()['costo_inventario']\n",
    "        df3 = pd.read_excel(file_name+\"costo_corte.xlsx\").rename(columns={'value': 'costo_corte'}).groupby(['r']).sum().reset_index()['costo_corte']\n",
    "        df4 = pd.read_excel(file_name+\"costo_merma.xlsx\").rename(columns={'value': 'costo_merma'}).groupby(['r']).sum().reset_index()['costo_merma']\n",
    "        df = pd.concat([df, df1, df2, df3, df4], axis=1)\n",
    "        df['Escenario'] = f\"Escenario {experiment}\"\n",
    "        df = df.reset_index().rename(columns={'index': 'r'})\n",
    "        df['r'] += 1\n",
    "\n",
    "        # Se agrega al DataFrame \n",
    "        final = pd.concat([final, df])\n",
    "        \n",
    "        fila = f\"Escenario {experiment} & \"\n",
    "        for metrica in ['utilidad', 'ingresos', 'costo_inventario', 'costo_corte', 'costo_merma']:\n",
    "            # Calcula la media y desviación estándar de la columna 'utilidad'\n",
    "            media = df[metrica].mean()\n",
    "            desviacion_estandar = df[metrica].std()\n",
    "\n",
    "            # Calcula el tamaño de la muestra\n",
    "            tamano_muestra = len(df)\n",
    "\n",
    "            # Define el nivel de confianza deseado (por ejemplo, 95%)\n",
    "            nivel_confianza = 0.95\n",
    "\n",
    "            # Calcula el valor crítico de la distribución t de Student\n",
    "            valor_critico = stats.t.ppf((1 + nivel_confianza) / 2, tamano_muestra - 1)\n",
    "\n",
    "            # Calcula el error estándar\n",
    "            error_estandar = desviacion_estandar / np.sqrt(tamano_muestra)\n",
    "\n",
    "            # Calcula el intervalo de confianza\n",
    "            intervalo_inferior = media - valor_critico * error_estandar\n",
    "            intervalo_superior = media + valor_critico * error_estandar\n",
    "\n",
    "            # Expresa el intervalo de confianza en potencia de 10e6 (potencia de 6)\n",
    "            media = \"{:.4f}\".format(media * 1e-6)\n",
    "            error = \"{:.4f}\".format(valor_critico * error_estandar * 1e-6)\n",
    "\n",
    "            # Imprime el intervalo de confianza expresado en potencia de 10e6 (potencia de 6)\n",
    "            cadena = f\"${media}$ $\\pm$ ${error}$ $\\\\times10^-6_$\".replace('-', '{'). replace('_', '}')\n",
    "            #print(f\"{metrica}:{cadena}\")\n",
    "\n",
    "            fila += f\"{cadena} & \"\n",
    "\n",
    "        fila =  fila[:-3]\n",
    "        if experiment != 6:\n",
    "            fila += \"\\\\\\\\ \\\\midrule \"\n",
    "        else:\n",
    "            fila += \"\\\\\\\\ \\\\bottomrule \"\n",
    "\n",
    "        print(fila)\n",
    "\n",
    "        \n",
    "#final\n",
    "final.to_excel(\"/Users/moises/Desktop/Codigo - Test significancia/ANOVA.xlsx\", sheet_name=\"ANOVA\")    \n"
   ]
  }
 ],
 "metadata": {
  "kernelspec": {
   "display_name": "Python 3",
   "language": "python",
   "name": "python3"
  },
  "language_info": {
   "codemirror_mode": {
    "name": "ipython",
    "version": 3
   },
   "file_extension": ".py",
   "mimetype": "text/x-python",
   "name": "python",
   "nbconvert_exporter": "python",
   "pygments_lexer": "ipython3",
   "version": "3.10.9"
  },
  "orig_nbformat": 4
 },
 "nbformat": 4,
 "nbformat_minor": 2
}
